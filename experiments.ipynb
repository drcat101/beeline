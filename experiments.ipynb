{
 "cells": [
  {
   "cell_type": "code",
   "execution_count": 8,
   "metadata": {},
   "outputs": [],
   "source": [
    "from selenium import webdriver\n",
    "\n",
    "from selenium.webdriver.common.by import By\n"
   ]
  },
  {
   "cell_type": "code",
   "execution_count": 9,
   "metadata": {},
   "outputs": [],
   "source": [
    "\n",
    "from datetime import datetime\n"
   ]
  },
  {
   "cell_type": "code",
   "execution_count": 10,
   "metadata": {},
   "outputs": [],
   "source": [
    "todays_date = datetime.today()\n",
    "day_of_month = todays_date.strftime('%d')\n",
    "date_link = todays_date.strftime('%Y/%m/%d')\n",
    "date_element = todays_date.strftime('%Y-%m-%d')"
   ]
  },
  {
   "cell_type": "code",
   "execution_count": 11,
   "metadata": {},
   "outputs": [],
   "source": [
    "from selenium.webdriver.firefox.options import Options\n",
    "opts = Options()\n",
    "opts.add_argument(\"--headless\")"
   ]
  },
  {
   "cell_type": "code",
   "execution_count": 13,
   "metadata": {},
   "outputs": [],
   "source": [
    "browser = webdriver.Firefox(options=opts)\n",
    "browser.get(f'https://www.nytimes.com/{date_link}/crosswords/spelling-bee-forum.html')"
   ]
  },
  {
   "cell_type": "code",
   "execution_count": 14,
   "metadata": {},
   "outputs": [
    {
     "name": "stdout",
     "output_type": "stream",
     "text": [
      "Center letter is in bold.\n",
      "W C D E K L O\n",
      "WORDS: 25, POINTS: 107, PANGRAMS: 1 (1 Perfect)\n",
      "4 5 6 7 8 Σ\n",
      "C: 1 1 - - - 2\n",
      "D: - 2 - 1 - 3\n",
      "L: 1 1 - - 1 3\n",
      "O: 1 - - - - 1\n",
      "W: 7 2 5 1 1 16\n",
      "Σ: 10 6 5 2 2 25\n",
      "Two letter list:\n",
      "CO-2\n",
      "DO-1 DW-2\n",
      "LE-1 LO-2\n",
      "OW-1\n",
      "WE-9 WO-7\n"
     ]
    }
   ],
   "source": [
    "# day + sb before first dash\n",
    "for e in browser.find_elements(By.ID, f'{day_of_month}sb-forum-{date_element}'):\n",
    "    print(e.text)"
   ]
  },
  {
   "cell_type": "code",
   "execution_count": 16,
   "metadata": {},
   "outputs": [],
   "source": [
    "# day + sb before first dash\n",
    "grid_text = browser.find_element(By.ID, f'{day_of_month}sb-forum-{date_element}').text"
   ]
  },
  {
   "cell_type": "code",
   "execution_count": 17,
   "metadata": {},
   "outputs": [],
   "source": [
    "browser.quit()"
   ]
  },
  {
   "cell_type": "code",
   "execution_count": 19,
   "metadata": {},
   "outputs": [
    {
     "name": "stdout",
     "output_type": "stream",
     "text": [
      "['Center letter is in bold.', 'W C D E K L O', 'WORDS: 25, POINTS: 107, PANGRAMS: 1 (1 Perfect)', '4 5 6 7 8 Σ', 'C: 1 1 - - - 2', 'D: - 2 - 1 - 3', 'L: 1 1 - - 1 3', 'O: 1 - - - - 1', 'W: 7 2 5 1 1 16', 'Σ: 10 6 5 2 2 25', 'Two letter list:', 'CO-2', 'DO-1 DW-2', 'LE-1 LO-2', 'OW-1', 'WE-9 WO-7']\n"
     ]
    }
   ],
   "source": [
    "# assume that letters are in line 2\n",
    "# totals are in line 3\n",
    "# word lengths are in line 4\n",
    "# grid is line 5-?\n",
    "# 2LL is ?-?\n",
    "print(grid_text.split(\"\\n\")) \n"
   ]
  },
  {
   "cell_type": "code",
   "execution_count": 20,
   "metadata": {},
   "outputs": [],
   "source": [
    "grid_text_list = grid_text.split(\"\\n\")\n",
    "todays_letters = grid_text_list[1].split()\n",
    "todays_lengths = grid_text_list[3].split()[:-1]"
   ]
  },
  {
   "cell_type": "code",
   "execution_count": 21,
   "metadata": {},
   "outputs": [
    {
     "data": {
      "text/plain": [
       "['4', '5', '6', '7', '8']"
      ]
     },
     "execution_count": 21,
     "metadata": {},
     "output_type": "execute_result"
    }
   ],
   "source": [
    "todays_lengths"
   ]
  },
  {
   "cell_type": "code",
   "execution_count": 22,
   "metadata": {},
   "outputs": [],
   "source": [
    "import re"
   ]
  },
  {
   "cell_type": "code",
   "execution_count": 27,
   "metadata": {},
   "outputs": [],
   "source": [
    "def get_lengths_by_letter(first_letter):\n",
    "    lengths_dict = {}\n",
    "    for grid_line in grid_text_list:\n",
    "        if grid_line[:2] == first_letter + ':':\n",
    "            # first 3 characters are letter, :, space\n",
    "            # last character is sum\n",
    "            lengths = grid_line[3:-1].replace('-', '0').split()\n",
    "            for i in range(len(todays_lengths)):\n",
    "                lengths_dict[int(todays_lengths[i])] = int(lengths[i])\n",
    "            return lengths_dict\n",
    "        \n",
    "    for i in range(len(todays_lengths)):\n",
    "        lengths_dict[int(todays_lengths[i])] = 0\n",
    "    return lengths_dict\n",
    "    "
   ]
  },
  {
   "cell_type": "code",
   "execution_count": 24,
   "metadata": {},
   "outputs": [],
   "source": [
    "def get_bigrams_by_letter(first_letter):\n",
    "    for grid_line in grid_text_list:\n",
    "        if re.match(f'{first_letter}[A-Z]-\\d\\d?', grid_line):\n",
    "            bigrams = grid_line.split()\n",
    "            bigram_dict = {}\n",
    "            for bigram in bigrams:\n",
    "                bigram_dict[bigram[:2]] = int(bigram[3:])\n",
    "            return bigram_dict\n",
    "    return {}\n"
   ]
  },
  {
   "cell_type": "code",
   "execution_count": 30,
   "metadata": {},
   "outputs": [],
   "source": [
    "# TODO check total number of words\n",
    "\n",
    "results_dict = {}\n",
    "for letter in todays_letters:\n",
    "    results_dict[letter] = {'lengths': get_lengths_by_letter(letter)}\n",
    "    results_dict[letter]['bigrams'] = get_bigrams_by_letter(letter)\n"
   ]
  },
  {
   "cell_type": "code",
   "execution_count": 31,
   "metadata": {},
   "outputs": [
    {
     "data": {
      "text/plain": [
       "{'W': {'lengths': {4: 7, 5: 2, 6: 5, 7: 1, 8: 1},\n",
       "  'bigrams': {'WE': 9, 'WO': 7}},\n",
       " 'C': {'lengths': {4: 1, 5: 1, 6: 0, 7: 0, 8: 0}, 'bigrams': {'CO': 2}},\n",
       " 'D': {'lengths': {4: 0, 5: 2, 6: 0, 7: 1, 8: 0},\n",
       "  'bigrams': {'DO': 1, 'DW': 2}},\n",
       " 'E': {'lengths': {4: 0, 5: 0, 6: 0, 7: 0, 8: 0}, 'bigrams': {}},\n",
       " 'K': {'lengths': {4: 0, 5: 0, 6: 0, 7: 0, 8: 0}, 'bigrams': {}},\n",
       " 'L': {'lengths': {4: 1, 5: 1, 6: 0, 7: 0, 8: 1},\n",
       "  'bigrams': {'LE': 1, 'LO': 2}},\n",
       " 'O': {'lengths': {4: 1, 5: 0, 6: 0, 7: 0, 8: 0}, 'bigrams': {'OW': 1}}}"
      ]
     },
     "execution_count": 31,
     "metadata": {},
     "output_type": "execute_result"
    }
   ],
   "source": [
    "results_dict"
   ]
  },
  {
   "cell_type": "code",
   "execution_count": 11,
   "metadata": {},
   "outputs": [
    {
     "data": {
      "text/plain": [
       "['2', '1', '0', '2', '2', '0']"
      ]
     },
     "execution_count": 11,
     "metadata": {},
     "output_type": "execute_result"
    }
   ],
   "source": [
    "get_lengths_by_letter('A')"
   ]
  },
  {
   "cell_type": "code",
   "execution_count": 24,
   "metadata": {},
   "outputs": [
    {
     "data": {
      "text/plain": [
       "{'AC': 5, 'AI': 1, 'AM': 1}"
      ]
     },
     "execution_count": 24,
     "metadata": {},
     "output_type": "execute_result"
    }
   ],
   "source": [
    "get_bigrams('A')"
   ]
  },
  {
   "cell_type": "code",
   "execution_count": 37,
   "metadata": {},
   "outputs": [],
   "source": [
    "my_words = \"\"\"\n",
    "Academe\n",
    "Academia\n",
    "Academic\n",
    "Academy\n",
    "Aimed\n",
    "Amid\n",
    "Came\n",
    "Cami\n",
    "Dame\n",
    "Dammed\n",
    "Deem\n",
    "Deemed\n",
    "Diadem\n",
    "Dime\n",
    "Dimmed\n",
    "Edema\n",
    "Emcee\n",
    "Emceed\n",
    "Imam\n",
    "Immediacy\n",
    "Macadamia\n",
    "Mace\n",
    "Maced\n",
    "Made\n",
    "Maid\n",
    "Maim\n",
    "Maimed\n",
    "Mama\n",
    "Mamma\n",
    "Mayday\n",
    "Mead\n",
    "Mecca\n",
    "Media\n",
    "Medic\n",
    "Meme\n",
    "Memed\n",
    "Mica\n",
    "Mice\n",
    "Midday\n",
    "Midi\n",
    "Mime\n",
    "Mimed\n",
    "Mimic\n",
    "\"\"\""
   ]
  },
  {
   "cell_type": "code",
   "execution_count": 40,
   "metadata": {},
   "outputs": [
    {
     "name": "stdout",
     "output_type": "stream",
     "text": [
      "['Academe', 'Academia', 'Academic', 'Academy', 'Aimed', 'Amid', 'Came', 'Cami', 'Dame', 'Dammed', 'Deem', 'Deemed', 'Diadem', 'Dime', 'Dimmed', 'Edema', 'Emcee', 'Emceed', 'Imam', 'Immediacy', 'Macadamia', 'Mace', 'Maced', 'Made', 'Maid', 'Maim', 'Maimed', 'Mama', 'Mamma', 'Mayday', 'Mead', 'Mecca', 'Media', 'Medic', 'Meme', 'Memed', 'Mica', 'Mice', 'Midday', 'Midi', 'Mime', 'Mimed', 'Mimic']\n"
     ]
    }
   ],
   "source": [
    "print(my_words.split(\"\\n\")[1:-1])"
   ]
  },
  {
   "cell_type": "code",
   "execution_count": null,
   "metadata": {},
   "outputs": [],
   "source": []
  }
 ],
 "metadata": {
  "kernelspec": {
   "display_name": "beeline",
   "language": "python",
   "name": "python3"
  },
  "language_info": {
   "codemirror_mode": {
    "name": "ipython",
    "version": 3
   },
   "file_extension": ".py",
   "mimetype": "text/x-python",
   "name": "python",
   "nbconvert_exporter": "python",
   "pygments_lexer": "ipython3",
   "version": "3.9.13"
  },
  "orig_nbformat": 4
 },
 "nbformat": 4,
 "nbformat_minor": 2
}
