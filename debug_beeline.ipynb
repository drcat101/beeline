{
 "cells": [
  {
   "cell_type": "code",
   "execution_count": 3,
   "metadata": {},
   "outputs": [],
   "source": [
    "from bee_scraper import scrape_and_parse_hints\n",
    "from bee_functions import print_results, list_differences"
   ]
  },
  {
   "cell_type": "code",
   "execution_count": 43,
   "metadata": {},
   "outputs": [],
   "source": [
    "robs_words = \"\"\"Abed\n",
    "Babe\n",
    "Bade\n",
    "Bake\n",
    "Baked\n",
    "Banana\n",
    "Band\n",
    "Banded\n",
    "Bane\n",
    "Bank\n",
    "Banked\n",
    "Banned\n",
    "Bead\n",
    "Beaded\n",
    "Beak\n",
    "Beaked\n",
    "Beam\n",
    "Beamed\n",
    "Bean\n",
    "Beaned\n",
    "Bedded\n",
    "Dabbed\n",
    "Ebbed\n",
    "Embanked\n",
    "Embed\n",
    "Embedded\n",
    "Mamba\n",
    "Nabbed\"\"\".split('\\n')\n"
   ]
  },
  {
   "cell_type": "code",
   "execution_count": 1,
   "metadata": {},
   "outputs": [],
   "source": [
    "cats_words = \"\"\"Abed\n",
    "Ameba\n",
    "Amebae\n",
    "Baba\n",
    "Bake\n",
    "Baked\n",
    "Banana\n",
    "Band\n",
    "Bandana\n",
    "Bandanna\n",
    "Banded\n",
    "Bane\n",
    "Bank\n",
    "Banked\n",
    "Banned\n",
    "Bead\n",
    "Beaded\n",
    "Beak\n",
    "Beaked\n",
    "Beamed\n",
    "Bean\n",
    "Beaned\n",
    "Bend\n",
    "Dabbed\n",
    "Ebbed\n",
    "Embanked\n",
    "Kebab\n",
    "Mamba\n",
    "Nabbed\"\"\".split(\"\\n\")"
   ]
  },
  {
   "cell_type": "code",
   "execution_count": 4,
   "metadata": {},
   "outputs": [],
   "source": [
    "solutions, words_points_pangrams = scrape_and_parse_hints()"
   ]
  },
  {
   "cell_type": "code",
   "execution_count": 44,
   "metadata": {},
   "outputs": [
    {
     "name": "stdout",
     "output_type": "stream",
     "text": [
      "{'B': {'lengths': {4: 13, 5: 3, 6: 9, 7: 1, 8: 1}, 'bigrams': {'BA': 16, 'BE': 11}}, 'A': {'lengths': {4: 1, 5: 1, 6: 1, 7: 0, 8: 0}, 'bigrams': {'AB': 1, 'AM': 2}}, 'D': {'lengths': {4: 0, 5: 0, 6: 1, 7: 0, 8: 0}, 'bigrams': {'DA': 1}}, 'E': {'lengths': {4: 0, 5: 2, 6: 1, 7: 0, 8: 2}, 'bigrams': {'EB': 1, 'EM': 4}}, 'K': {'lengths': {4: 0, 5: 1, 6: 0, 7: 0, 8: 0}, 'bigrams': {'KE': 1}}, 'M': {'lengths': {4: 0, 5: 1, 6: 0, 7: 0, 8: 0}, 'bigrams': {'MA': 1}}, 'N': {'lengths': {4: 0, 5: 0, 6: 1, 7: 0, 8: 0}, 'bigrams': {'NA': 1}}}\n"
     ]
    }
   ],
   "source": [
    "print(solutions)"
   ]
  },
  {
   "cell_type": "code",
   "execution_count": 45,
   "metadata": {},
   "outputs": [
    {
     "data": {
      "text/plain": [
       "{'words': '39,', 'points': '170,', 'pangrams': '1,'}"
      ]
     },
     "execution_count": 45,
     "metadata": {},
     "output_type": "execute_result"
    }
   ],
   "source": [
    "words_points_pangrams"
   ]
  },
  {
   "cell_type": "code",
   "execution_count": 46,
   "metadata": {},
   "outputs": [
    {
     "name": "stdout",
     "output_type": "stream",
     "text": [
      "found list {'Beaked', 'Banded', 'Beamed', 'Ameba', 'Banana', 'Ebbed', 'Bend', 'Banked', 'Amebae', 'Bandana', 'Bank', 'Baked', 'Beak', 'Embedded', 'Bead', 'Beaned', 'Band', 'Kebab', 'Embed', 'Abed', 'Bane', 'Baba', 'Bandanna', 'Dabbed', 'Mamba', 'Bean', 'Banned', 'Bade', 'Beaded', 'Bedded', 'Babe', 'Beam', 'Nabbed', 'Bake', 'Embanked'}\n",
      "words in first list not in second {'Embed', 'Bade', 'Embedded', 'Bedded', 'Babe', 'Beam'}\n",
      "words in second list not in first {'Baba', 'Bandanna', 'Ameba', 'Bend', 'Amebae', 'Bandana', 'Kebab'}\n"
     ]
    }
   ],
   "source": [
    "diff_dict = list_differences(robs_words, cats_words, solutions)"
   ]
  },
  {
   "cell_type": "code",
   "execution_count": 47,
   "metadata": {},
   "outputs": [
    {
     "name": "stdout",
     "output_type": "stream",
     "text": [
      "Bigrams: ['BA', 'BA', 'BE', 'BE'], lengths: [4, 5]\n",
      "Bigrams: ['EM'], lengths: [6]\n"
     ]
    }
   ],
   "source": [
    "print_results(diff_dict)"
   ]
  },
  {
   "cell_type": "markdown",
   "metadata": {},
   "source": [
    "Bigrams: ['BA', 'BA', 'BE', 'BE'], lengths: [4, 5]\n",
    "Bigrams: ['EM'], lengths: [6]\n",
    "\n",
    "should be ['BA', 'BA', 'BE'] [4 ,5, 5]"
   ]
  },
  {
   "cell_type": "markdown",
   "metadata": {},
   "source": [
    "{'B': {'lengths': {4: 13, 5: 3, 6: 9, 7: 1, 8: 1}, 'bigrams': {'BA': 16, 'BE': 11}}, 'A': {'lengths': {4: 1, 5: 1, 6: 1, 7: 0, 8: 0}, 'bigrams': {'AB': 1, 'AM': 2}}, 'D': {'lengths': {4: 0, 5: 0, 6: 1, 7: 0, 8: 0}, 'bigrams': {'DA': 1}}, 'E': {'lengths': {4: 0, 5: 2, 6: 1, 7: 0, 8: 2}, 'bigrams': {'EB': 1, 'EM': 4}}, 'K': {'lengths': {4: 0, 5: 1, 6: 0, 7: 0, 8: 0}, 'bigrams': {'KE': 1}}, 'M': {'lengths': {4: 0, 5: 1, 6: 0, 7: 0, 8: 0}, 'bigrams': {'MA': 1}}, 'N': {'lengths': {4: 0, 5: 0, 6: 1, 7: 0, 8: 0}, 'bigrams': {'NA': 1}}}"
   ]
  }
 ],
 "metadata": {
  "kernelspec": {
   "display_name": "beeline",
   "language": "python",
   "name": "python3"
  },
  "language_info": {
   "codemirror_mode": {
    "name": "ipython",
    "version": 3
   },
   "file_extension": ".py",
   "mimetype": "text/x-python",
   "name": "python",
   "nbconvert_exporter": "python",
   "pygments_lexer": "ipython3",
   "version": "3.10.4"
  },
  "orig_nbformat": 4
 },
 "nbformat": 4,
 "nbformat_minor": 2
}
