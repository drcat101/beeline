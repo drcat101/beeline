{
 "cells": [
  {
   "cell_type": "code",
   "execution_count": null,
   "metadata": {},
   "outputs": [],
   "source": [
    "from bee_scraper import scrape_and_parse_hints\n",
    "from bee_functions import find_and_print_missing"
   ]
  },
  {
   "cell_type": "code",
   "execution_count": null,
   "metadata": {},
   "outputs": [],
   "source": [
    "robs_words = \"\"\"Account\n",
    "Accountant\n",
    "Atop\n",
    "Aunt\n",
    "Auto\n",
    "Cant\n",
    "Canton\n",
    "Catnap\n",
    "Coat\n",
    "Coot\n",
    "Copout\n",
    "Count\n",
    "Cutout\n",
    "Natant\n",
    "Occupant\n",
    "Octant\n",
    "Onto\n",
    "Output\n",
    "Pact\n",
    "Pontoon\n",
    "Potato\n",
    "Pout\n",
    "Punt\n",
    "Putout\n",
    "Putt\n",
    "Taco\n",
    "Tact\n",
    "Tapa\n",
    "Tattoo\n",
    "Taunt\n",
    "Taut\n",
    "Toccata\n",
    "Toon\n",
    "Toot\n",
    "Toucan\n",
    "Tout\n",
    "Tuna\n",
    "Tutu\n",
    "Uncut\n",
    "Unto\"\"\".split('\\n')\n"
   ]
  },
  {
   "cell_type": "code",
   "execution_count": null,
   "metadata": {},
   "outputs": [],
   "source": [
    "cats_words = \"\"\"Account\n",
    "Accountant\n",
    "Atop\n",
    "Aunt\n",
    "Auto\n",
    "Cant\n",
    "Catnap\n",
    "Coconut\n",
    "Concoct\n",
    "Contact\n",
    "Cotton\n",
    "Count\n",
    "Cutup\n",
    "Natant\n",
    "Occupant\n",
    "Octant\n",
    "Onto\n",
    "Output\n",
    "Pact\n",
    "Pant\n",
    "Pontoon\n",
    "Potato\n",
    "Pout\n",
    "Punt\n",
    "Taco\n",
    "Tact\n",
    "Tapa\n",
    "Tattoo\n",
    "Taunt\n",
    "Taut\n",
    "Toccata\n",
    "Toon\n",
    "Toot\n",
    "Toucan\n",
    "Tout\n",
    "Tuna\n",
    "Tutu\n",
    "Uncut\n",
    "Unto\"\"\".split(\"\\n\")"
   ]
  },
  {
   "cell_type": "code",
   "execution_count": null,
   "metadata": {},
   "outputs": [],
   "source": [
    "lengths_dict, bigrams_dict, words_points_pangrams = scrape_and_parse_hints()"
   ]
  },
  {
   "cell_type": "code",
   "execution_count": null,
   "metadata": {},
   "outputs": [],
   "source": [
    "print(lengths_dict)"
   ]
  },
  {
   "cell_type": "code",
   "execution_count": null,
   "metadata": {},
   "outputs": [],
   "source": [
    "words_points_pangrams"
   ]
  },
  {
   "cell_type": "code",
   "execution_count": null,
   "metadata": {},
   "outputs": [],
   "source": [
    "find_and_print_missing(robs_words, cats_words, lengths_dict, bigrams_dict)"
   ]
  },
  {
   "cell_type": "code",
   "execution_count": null,
   "metadata": {},
   "outputs": [],
   "source": []
  }
 ],
 "metadata": {
  "kernelspec": {
   "display_name": "beeline",
   "language": "python",
   "name": "python3"
  },
  "language_info": {
   "codemirror_mode": {
    "name": "ipython",
    "version": 3
   },
   "file_extension": ".py",
   "mimetype": "text/x-python",
   "name": "python",
   "nbconvert_exporter": "python",
   "pygments_lexer": "ipython3",
   "version": "3.10.4"
  },
  "orig_nbformat": 4
 },
 "nbformat": 4,
 "nbformat_minor": 2
}
