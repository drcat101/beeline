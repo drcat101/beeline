{
 "cells": [
  {
   "cell_type": "code",
   "execution_count": 1,
   "metadata": {},
   "outputs": [],
   "source": [
    "from bee_scraper import scrape_and_parse_hints\n",
    "from bee_functions import print_results"
   ]
  },
  {
   "cell_type": "code",
   "execution_count": 3,
   "metadata": {},
   "outputs": [],
   "source": [
    "robs_words = \"\"\"Clench\n",
    "Clenched\n",
    "Denude\n",
    "Denuded\n",
    "Dunce\n",
    "Ended\n",
    "Eunuch\n",
    "Hunch\n",
    "Lend\n",
    "Lunch\n",
    "Lunched\n",
    "Need\n",
    "Needed\n",
    "Nene\n",
    "Nude\n",
    "Null\n",
    "Unceded\n",
    "Unclench\n",
    "Unclenched\n",
    "Unheeded\n",
    "Unneeded\"\"\".split('\\n')\n"
   ]
  },
  {
   "cell_type": "code",
   "execution_count": 4,
   "metadata": {},
   "outputs": [
    {
     "data": {
      "text/plain": [
       "['Clench',\n",
       " 'Clenched',\n",
       " 'Denude',\n",
       " 'Denuded',\n",
       " 'Dunce',\n",
       " 'Ended',\n",
       " 'Eunuch',\n",
       " 'Hunch',\n",
       " 'Lend',\n",
       " 'Lunch',\n",
       " 'Lunched',\n",
       " 'Need',\n",
       " 'Needed',\n",
       " 'Nene',\n",
       " 'Nude',\n",
       " 'Null',\n",
       " 'Unceded',\n",
       " 'Unclench',\n",
       " 'Unclenched',\n",
       " 'Unheeded',\n",
       " 'Unneeded']"
      ]
     },
     "execution_count": 4,
     "metadata": {},
     "output_type": "execute_result"
    }
   ],
   "source": [
    "robs_words"
   ]
  },
  {
   "cell_type": "code",
   "execution_count": 5,
   "metadata": {},
   "outputs": [],
   "source": [
    "cats_words = \"\"\"Clench\n",
    "Clenched\n",
    "Denude\n",
    "Denuded\n",
    "Dunce\n",
    "Dune\n",
    "Ended\n",
    "Hunch\n",
    "Hunched\n",
    "Lend\n",
    "Lunch\n",
    "Lunched\n",
    "Lune\n",
    "Need\n",
    "Needed\n",
    "Needle\n",
    "Needled\n",
    "Nene\n",
    "Nude\n",
    "Null\n",
    "Unceded\n",
    "Uncle\n",
    "Unclenched\n",
    "Unheeded\n",
    "Unneeded\"\"\".split(\"\\n\")"
   ]
  },
  {
   "cell_type": "code",
   "execution_count": 6,
   "metadata": {},
   "outputs": [
    {
     "data": {
      "text/plain": [
       "['Clench',\n",
       " 'Clenched',\n",
       " 'Denude',\n",
       " 'Denuded',\n",
       " 'Dunce',\n",
       " 'Dune',\n",
       " 'Ended',\n",
       " 'Hunch',\n",
       " 'Hunched',\n",
       " 'Lend',\n",
       " 'Lunch',\n",
       " 'Lunched',\n",
       " 'Lune',\n",
       " 'Need',\n",
       " 'Needed',\n",
       " 'Needle',\n",
       " 'Needled',\n",
       " 'Nene',\n",
       " 'Nude',\n",
       " 'Null',\n",
       " 'Unceded',\n",
       " 'Uncle',\n",
       " 'Unclenched',\n",
       " 'Unheeded',\n",
       " 'Unneeded']"
      ]
     },
     "execution_count": 6,
     "metadata": {},
     "output_type": "execute_result"
    }
   ],
   "source": [
    "cats_words"
   ]
  },
  {
   "cell_type": "code",
   "execution_count": 23,
   "metadata": {},
   "outputs": [
    {
     "name": "stdout",
     "output_type": "stream",
     "text": [
      "{'N': {'lengths': {4: 4, 5: 0, 6: 2, 7: 1, 8: 0, 10: 0}, 'bigrams': {'NE': 5, 'NU': 2}}, 'C': {'lengths': {4: 0, 5: 0, 6: 1, 7: 0, 8: 1, 10: 0}, 'bigrams': {'CL': 2}}, 'D': {'lengths': {4: 1, 5: 1, 6: 2, 7: 1, 8: 0, 10: 0}, 'bigrams': {'DE': 2, 'DU': 3}}, 'E': {'lengths': {4: 0, 5: 2, 6: 2, 7: 0, 8: 0, 10: 0}, 'bigrams': {'EN': 3, 'EU': 1}}, 'H': {'lengths': {4: 0, 5: 2, 6: 0, 7: 1, 8: 0, 10: 0}, 'bigrams': {'HE': 1, 'HU': 2}}, 'L': {'lengths': {4: 2, 5: 1, 6: 0, 7: 1, 8: 0, 10: 0}, 'bigrams': {'LE': 1, 'LU': 3}}, 'U': {'lengths': {4: 0, 5: 2, 6: 0, 7: 1, 8: 3, 10: 1}, 'bigrams': {'UN': 7}}}\n"
     ]
    }
   ],
   "source": [
    "solutions = scrape_and_parse_hints()"
   ]
  },
  {
   "cell_type": "code",
   "execution_count": null,
   "metadata": {},
   "outputs": [],
   "source": [
    "print_results(robs_words, cats_words, solutions)"
   ]
  },
  {
   "cell_type": "code",
   "execution_count": null,
   "metadata": {},
   "outputs": [],
   "source": []
  }
 ],
 "metadata": {
  "kernelspec": {
   "display_name": "beeline",
   "language": "python",
   "name": "python3"
  },
  "language_info": {
   "codemirror_mode": {
    "name": "ipython",
    "version": 3
   },
   "file_extension": ".py",
   "mimetype": "text/x-python",
   "name": "python",
   "nbconvert_exporter": "python",
   "pygments_lexer": "ipython3",
   "version": "3.9.13"
  },
  "orig_nbformat": 4
 },
 "nbformat": 4,
 "nbformat_minor": 2
}
