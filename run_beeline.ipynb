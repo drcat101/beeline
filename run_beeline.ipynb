{
 "cells": [
  {
   "cell_type": "code",
   "execution_count": 1,
   "metadata": {},
   "outputs": [],
   "source": [
    "from bee_scraper import scrape_and_parse_hints\n",
    "from bee_functions import print_results, list_differences"
   ]
  },
  {
   "cell_type": "code",
   "execution_count": 2,
   "metadata": {},
   "outputs": [],
   "source": [
    "robs_words = \"\"\"Accrual\n",
    "Ajar\n",
    "Aura\n",
    "Aural\n",
    "Aurora\n",
    "Auroral\n",
    "Color\n",
    "Coral\n",
    "Corral\n",
    "Croc\n",
    "Curl\n",
    "Jocular\n",
    "Juror\n",
    "Occur\n",
    "Ocular\n",
    "Oracular\n",
    "Oral\n",
    "Orca\n",
    "Raja\n",
    "Roll\n",
    "Rural\"\"\".split('\\n')\n"
   ]
  },
  {
   "cell_type": "code",
   "execution_count": 3,
   "metadata": {},
   "outputs": [
    {
     "data": {
      "text/plain": [
       "['Accrual',\n",
       " 'Ajar',\n",
       " 'Aura',\n",
       " 'Aural',\n",
       " 'Aurora',\n",
       " 'Auroral',\n",
       " 'Color',\n",
       " 'Coral',\n",
       " 'Corral',\n",
       " 'Croc',\n",
       " 'Curl',\n",
       " 'Jocular',\n",
       " 'Juror',\n",
       " 'Occur',\n",
       " 'Ocular',\n",
       " 'Oracular',\n",
       " 'Oral',\n",
       " 'Orca',\n",
       " 'Raja',\n",
       " 'Roll',\n",
       " 'Rural']"
      ]
     },
     "execution_count": 3,
     "metadata": {},
     "output_type": "execute_result"
    }
   ],
   "source": [
    "robs_words"
   ]
  },
  {
   "cell_type": "code",
   "execution_count": 4,
   "metadata": {},
   "outputs": [
    {
     "data": {
      "text/plain": [
       "21"
      ]
     },
     "execution_count": 4,
     "metadata": {},
     "output_type": "execute_result"
    }
   ],
   "source": [
    "len(robs_words)"
   ]
  },
  {
   "cell_type": "code",
   "execution_count": 5,
   "metadata": {},
   "outputs": [],
   "source": [
    "cats_words = \"\"\"Accrual\n",
    "Ajar\n",
    "Aura\n",
    "Aural\n",
    "Aurora\n",
    "Auroral\n",
    "Carol\n",
    "Color\n",
    "Coral\n",
    "Croc\n",
    "Curacao\n",
    "Curl\n",
    "Jocular\n",
    "Juror\n",
    "Ocular\n",
    "Oracular\n",
    "Oral\n",
    "Raja\n",
    "Roar\n",
    "Roll\n",
    "Rural\"\"\".split(\"\\n\")"
   ]
  },
  {
   "cell_type": "code",
   "execution_count": 6,
   "metadata": {},
   "outputs": [
    {
     "data": {
      "text/plain": [
       "['Accrual',\n",
       " 'Ajar',\n",
       " 'Aura',\n",
       " 'Aural',\n",
       " 'Aurora',\n",
       " 'Auroral',\n",
       " 'Carol',\n",
       " 'Color',\n",
       " 'Coral',\n",
       " 'Croc',\n",
       " 'Curacao',\n",
       " 'Curl',\n",
       " 'Jocular',\n",
       " 'Juror',\n",
       " 'Ocular',\n",
       " 'Oracular',\n",
       " 'Oral',\n",
       " 'Raja',\n",
       " 'Roar',\n",
       " 'Roll',\n",
       " 'Rural']"
      ]
     },
     "execution_count": 6,
     "metadata": {},
     "output_type": "execute_result"
    }
   ],
   "source": [
    "cats_words"
   ]
  },
  {
   "cell_type": "code",
   "execution_count": 7,
   "metadata": {},
   "outputs": [
    {
     "name": "stdout",
     "output_type": "stream",
     "text": [
      "{'R': {'lengths': {4: 3, 5: 1, 6: 1, 7: 0, 8: 0}, 'bigrams': {'RA': 1, 'RO': 3, 'RU': 1}}, 'A': {'lengths': {4: 3, 5: 1, 6: 1, 7: 2, 8: 0}, 'bigrams': {'AC': 1, 'AJ': 1, 'AR': 1, 'AU': 4}}, 'C': {'lengths': {4: 2, 5: 3, 6: 2, 7: 2, 8: 0}, 'bigrams': {'CA': 1, 'CO': 5, 'CR': 1, 'CU': 2}}, 'J': {'lengths': {4: 0, 5: 1, 6: 0, 7: 1, 8: 0}, 'bigrams': {'JO': 1, 'JU': 1}}, 'L': {'lengths': {4: 0, 5: 0, 6: 0, 7: 0, 8: 0}, 'bigrams': {}}, 'O': {'lengths': {4: 2, 5: 1, 6: 1, 7: 0, 8: 1}, 'bigrams': {'OC': 2, 'OR': 3}}, 'U': {'lengths': {4: 0, 5: 0, 6: 0, 7: 0, 8: 0}, 'bigrams': {}}}\n"
     ]
    }
   ],
   "source": [
    "solutions = scrape_and_parse_hints()"
   ]
  },
  {
   "cell_type": "code",
   "execution_count": 8,
   "metadata": {},
   "outputs": [
    {
     "name": "stdout",
     "output_type": "stream",
     "text": [
      "found list {'Roar', 'Roll', 'Accrual', 'Curl', 'Ajar', 'Coral', 'Carol', 'Ocular', 'Aural', 'Color', 'Orca', 'Croc', 'Raja', 'Rural', 'Curacao', 'Juror', 'Corral', 'Auroral', 'Occur', 'Jocular', 'Aura', 'Aurora', 'Oral', 'Oracular'}\n",
      "words in first list not in second {'Orca', 'Corral', 'Occur'}\n",
      "words in second list not in first {'Roar', 'Carol', 'Curacao'}\n"
     ]
    }
   ],
   "source": [
    "diff_dict = list_differences(robs_words, cats_words, solutions)"
   ]
  },
  {
   "cell_type": "code",
   "execution_count": 9,
   "metadata": {},
   "outputs": [
    {
     "name": "stdout",
     "output_type": "stream",
     "text": [
      "Bigrams: ['RO'], lengths: [6]\n",
      "Bigrams: ['AR'], lengths: [4]\n",
      "Bigrams: ['CO', 'CO'], lengths: [6, 7]\n"
     ]
    }
   ],
   "source": [
    "print_results(diff_dict)"
   ]
  },
  {
   "cell_type": "code",
   "execution_count": null,
   "metadata": {},
   "outputs": [],
   "source": []
  }
 ],
 "metadata": {
  "kernelspec": {
   "display_name": "beeline",
   "language": "python",
   "name": "python3"
  },
  "language_info": {
   "codemirror_mode": {
    "name": "ipython",
    "version": 3
   },
   "file_extension": ".py",
   "mimetype": "text/x-python",
   "name": "python",
   "nbconvert_exporter": "python",
   "pygments_lexer": "ipython3",
   "version": "3.9.13"
  },
  "orig_nbformat": 4
 },
 "nbformat": 4,
 "nbformat_minor": 2
}
